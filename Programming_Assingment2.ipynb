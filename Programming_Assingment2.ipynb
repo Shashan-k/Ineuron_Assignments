{
  "nbformat": 4,
  "nbformat_minor": 0,
  "metadata": {
    "colab": {
      "name": "Programming_Assingment2.ipynb",
      "provenance": [],
      "collapsed_sections": [],
      "authorship_tag": "ABX9TyNkmfsrKRHOGVYB8WQZSwSS",
      "include_colab_link": true
    },
    "kernelspec": {
      "name": "python3",
      "display_name": "Python 3"
    },
    "language_info": {
      "name": "python"
    }
  },
  "cells": [
    {
      "cell_type": "markdown",
      "metadata": {
        "id": "view-in-github",
        "colab_type": "text"
      },
      "source": [
        "<a href=\"https://colab.research.google.com/github/Shashan-k/Ineuron_Assignments/blob/main/Programming_Assingment2.ipynb\" target=\"_parent\"><img src=\"https://colab.research.google.com/assets/colab-badge.svg\" alt=\"Open In Colab\"/></a>"
      ]
    },
    {
      "cell_type": "code",
      "execution_count": 2,
      "metadata": {
        "colab": {
          "base_uri": "https://localhost:8080/"
        },
        "id": "TlYdKn4PeqzT",
        "outputId": "7ddf0661-9b1e-43fd-a4aa-760fdb4532f8"
      },
      "outputs": [
        {
          "output_type": "stream",
          "name": "stdout",
          "text": [
            "enter kms 10\n",
            "10 kms is equal to 6.21 mile\n"
          ]
        }
      ],
      "source": [
        "#Write a Python program to convert kilometers to miles?\n",
        "kms = int (input(\"enter kms \"))\n",
        "miles = 0.621 * kms\n",
        "print(\"{} kms is equal to {} mile\".format(kms,miles))"
      ]
    },
    {
      "cell_type": "code",
      "source": [
        "#Write a Python program to convert Celsius to Fahrenheit?\n",
        "cel = int(input(\"enter celsius \"))\n",
        "fh = (cel * 9/5)+ 32\n",
        "print(\"Temp in Fahrenheit \", fh)"
      ],
      "metadata": {
        "colab": {
          "base_uri": "https://localhost:8080/"
        },
        "id": "89L2bxFihHvt",
        "outputId": "5f63ccf3-985c-4b00-f919-8d3927bfaa53"
      },
      "execution_count": 4,
      "outputs": [
        {
          "output_type": "stream",
          "name": "stdout",
          "text": [
            "enter celsius 10\n",
            "Temp in Fahrenheit  50.0\n"
          ]
        }
      ]
    },
    {
      "cell_type": "code",
      "source": [
        "#Write a Python program to display calendar?\n",
        "import calendar\n",
        "year = int(input(\"enter year \"))\n",
        "month = int(input(\"Enter Month \"))\n",
        "print(calendar.month(year,month))"
      ],
      "metadata": {
        "colab": {
          "base_uri": "https://localhost:8080/"
        },
        "id": "ZbtvIqZth1cm",
        "outputId": "5e137a77-ef7d-45fc-df43-deb38943a8ab"
      },
      "execution_count": 9,
      "outputs": [
        {
          "output_type": "stream",
          "name": "stdout",
          "text": [
            "enter year 2022\n",
            "Enter Month 3\n",
            "     March 2022\n",
            "Mo Tu We Th Fr Sa Su\n",
            "    1  2  3  4  5  6\n",
            " 7  8  9 10 11 12 13\n",
            "14 15 16 17 18 19 20\n",
            "21 22 23 24 25 26 27\n",
            "28 29 30 31\n",
            "\n"
          ]
        }
      ]
    },
    {
      "cell_type": "code",
      "source": [
        "#Write a Python program to solve quadratic equation?\n",
        "a = int(input(\"Enter the coefficient of x^2 \"))\n",
        "b = int(input(\"Enter the coefficient of x \"))\n",
        "c = int(input(\"Enter the constant term \"))\n",
        "D = (b**b) - 4*a*c\n",
        "x1 = -b+(D**0.5)/2*a\n",
        "x2 = -b-(D**0.5)/2*a\n",
        "print (x1,x2)"
      ],
      "metadata": {
        "colab": {
          "base_uri": "https://localhost:8080/"
        },
        "id": "13KmEWnQjLch",
        "outputId": "3658ef02-3661-4663-aef0-5b4d3c8917fb"
      },
      "execution_count": 5,
      "outputs": [
        {
          "output_type": "stream",
          "name": "stdout",
          "text": [
            "Enter the coefficient of x^2 1\n",
            "Enter the coefficient of x 5\n",
            "Enter the constant term 6\n",
            "22.84331158465171 -32.84331158465171\n"
          ]
        }
      ]
    },
    {
      "cell_type": "code",
      "source": [
        "#Write a Python program to swap two variables without temp variable?\n",
        "\n",
        "a = 5\n",
        "b = 8\n",
        "a = a+b\n",
        "b = a-b\n",
        "a = a-b\n",
        "print(\"values of a \",a)\n",
        "print(\"values of b \",b)"
      ],
      "metadata": {
        "colab": {
          "base_uri": "https://localhost:8080/"
        },
        "id": "6qT8Wy8KA_UV",
        "outputId": "f48d8457-66b8-423d-bbc1-4fa7fb6cc491"
      },
      "execution_count": 7,
      "outputs": [
        {
          "output_type": "stream",
          "name": "stdout",
          "text": [
            "values of a  8\n",
            "values of b  5\n"
          ]
        }
      ]
    },
    {
      "cell_type": "code",
      "source": [
        ""
      ],
      "metadata": {
        "id": "eXwU_FTaCGzA"
      },
      "execution_count": null,
      "outputs": []
    }
  ]
}