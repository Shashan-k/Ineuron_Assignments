{
  "nbformat": 4,
  "nbformat_minor": 0,
  "metadata": {
    "colab": {
      "name": "Programming_Assingment4.ipynb",
      "provenance": [],
      "authorship_tag": "ABX9TyMhHyf82D2dTOSAN94ZxZN0",
      "include_colab_link": true
    },
    "kernelspec": {
      "name": "python3",
      "display_name": "Python 3"
    },
    "language_info": {
      "name": "python"
    }
  },
  "cells": [
    {
      "cell_type": "markdown",
      "metadata": {
        "id": "view-in-github",
        "colab_type": "text"
      },
      "source": [
        "<a href=\"https://colab.research.google.com/github/Shashan-k/Ineuron_Assignments/blob/main/Programming_Assingment4.ipynb\" target=\"_parent\"><img src=\"https://colab.research.google.com/assets/colab-badge.svg\" alt=\"Open In Colab\"/></a>"
      ]
    },
    {
      "cell_type": "code",
      "execution_count": null,
      "metadata": {
        "colab": {
          "base_uri": "https://localhost:8080/"
        },
        "id": "3uxcawvg2wKH",
        "outputId": "d02aba1b-16ff-408a-b407-0a9c66ac78bd"
      },
      "outputs": [
        {
          "output_type": "stream",
          "name": "stdout",
          "text": [
            "enter a number1\n",
            "factorial = 1\n"
          ]
        }
      ],
      "source": [
        "#Write a Python Program to Find the Factorial of a Number?\n",
        "num = int (input(\"enter a number\"))\n",
        "fact = 1\n",
        "if num == 0 or num ==1:\n",
        "  print(\"factorial = 1\")\n",
        "elif num>1:\n",
        "  while(num >= 2):\n",
        "    fact = fact * (num)\n",
        "    num = num -1\n",
        "  print(\"Factorial is : \", fact)"
      ]
    },
    {
      "cell_type": "code",
      "source": [
        "#Write a Python Program to Display the multiplication Table?\n",
        "table_of = int(input(\"ENter the num \"))\n",
        "for i in range(1,11):\n",
        "  print(\"{} * {} = {}\".format(table_of,i,table_of*i))"
      ],
      "metadata": {
        "colab": {
          "base_uri": "https://localhost:8080/"
        },
        "id": "GTNfW2A9hN3S",
        "outputId": "b7ac8bd0-706c-4d35-d611-6086647420c7"
      },
      "execution_count": null,
      "outputs": [
        {
          "output_type": "stream",
          "name": "stdout",
          "text": [
            "ENter the num 2\n",
            "2 * 1 = 2\n",
            "2 * 2 = 4\n",
            "2 * 3 = 6\n",
            "2 * 4 = 8\n",
            "2 * 5 = 10\n",
            "2 * 6 = 12\n",
            "2 * 7 = 14\n",
            "2 * 8 = 16\n",
            "2 * 9 = 18\n",
            "2 * 10 = 20\n"
          ]
        }
      ]
    },
    {
      "cell_type": "code",
      "source": [
        "#Write a Python Program to Print the Fibonacci sequence? (upto 10 terms)\n",
        "num1 = 0\n",
        "num2 = 1\n",
        "for i in range (1,10) :\n",
        "    sum = num1+num2\n",
        "    num1 = num2\n",
        "    num2 = sum \n",
        "    print(sum)\n"
      ],
      "metadata": {
        "colab": {
          "base_uri": "https://localhost:8080/"
        },
        "id": "DeCz5Pt6Y7UE",
        "outputId": "fab2de7e-0314-4eb6-e16e-1db8b1d6828d"
      },
      "execution_count": null,
      "outputs": [
        {
          "output_type": "stream",
          "name": "stdout",
          "text": [
            "1\n",
            "2\n",
            "3\n",
            "5\n",
            "8\n",
            "13\n",
            "21\n",
            "34\n",
            "55\n"
          ]
        }
      ]
    },
    {
      "cell_type": "code",
      "source": [
        "#Write a Python Program to Check Armstrong Number?\n",
        "num = int (input(\"enter a number: \"))\n",
        "sum = 0 \n",
        "\n",
        "temp = num\n",
        "while temp > 0 :\n",
        "  num1 = temp%10\n",
        "  sum = sum + num1**3\n",
        "  temp = temp//10\n",
        "\n",
        "if sum == num : \n",
        "  print(\"It's a Armstrong Number\")\n",
        "else:\n",
        "  print(\"Not a Armstrong number\")"
      ],
      "metadata": {
        "colab": {
          "base_uri": "https://localhost:8080/"
        },
        "id": "8l1IWCf9koCY",
        "outputId": "4114f169-03e8-4ad3-e7ef-9679bd611fae"
      },
      "execution_count": null,
      "outputs": [
        {
          "output_type": "stream",
          "name": "stdout",
          "text": [
            "enter a number: 153\n",
            "It's a Armstrong Number\n"
          ]
        }
      ]
    },
    {
      "cell_type": "code",
      "source": [
        "# Write a Python Program to Find Armstrong Number in an Interval?\n",
        "lowerlimit = int (input(\"Lower Limit: \"))\n",
        "num = int (input(\"enter a number upto which we want to check armstrong number: \"))\n",
        "for i in range (lowerlimit,num+1):\n",
        "  sum = 0 \n",
        "\n",
        "  temp = i\n",
        "  while temp > 0 :\n",
        "    num1 = temp%10\n",
        "    sum = sum + num1**3\n",
        "    temp = temp//10\n",
        "  if sum == i : \n",
        "    print(i,\" It's a Armstrong Number\")\n",
        "  else:\n",
        "    print(i,\" Not a Armstrong number\")"
      ],
      "metadata": {
        "colab": {
          "base_uri": "https://localhost:8080/"
        },
        "id": "8OZQAPTkpn7i",
        "outputId": "9f3991de-54ed-4d0e-e0b5-68bb859a70d2"
      },
      "execution_count": null,
      "outputs": [
        {
          "output_type": "stream",
          "name": "stdout",
          "text": [
            "Lower Limit: 150\n",
            "enter a number upto which we want to check armstrong number: 153\n",
            "150  Not a Armstrong number\n",
            "151  Not a Armstrong number\n",
            "152  Not a Armstrong number\n",
            "153  It's a Armstrong Number\n"
          ]
        }
      ]
    },
    {
      "cell_type": "code",
      "source": [
        "#Write a Python Program to Find the Sum of Natural Numbers?\n",
        "num1 = int(input(\" enter the number till which you want to find the number: \"))\n",
        "sum = 0\n",
        "for i in range(1,num1+1):\n",
        "  sum = sum +i\n",
        "print(sum)"
      ],
      "metadata": {
        "id": "dlVB5YYXzv7c",
        "colab": {
          "base_uri": "https://localhost:8080/"
        },
        "outputId": "5d894e2e-297d-431d-99cd-947b65829f9b"
      },
      "execution_count": 2,
      "outputs": [
        {
          "output_type": "stream",
          "name": "stdout",
          "text": [
            " enter the number till which you want to find the sum: 10\n",
            "55\n"
          ]
        }
      ]
    },
    {
      "cell_type": "code",
      "source": [
        ""
      ],
      "metadata": {
        "id": "3OQISE9WFpWU"
      },
      "execution_count": null,
      "outputs": []
    }
  ]
}
