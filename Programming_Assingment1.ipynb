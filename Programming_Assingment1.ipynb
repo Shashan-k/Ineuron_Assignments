{
  "nbformat": 4,
  "nbformat_minor": 0,
  "metadata": {
    "colab": {
      "name": "Programming_Assingment1.ipynb",
      "provenance": [],
      "authorship_tag": "ABX9TyNfoxAybemmriN+KDouKkAG",
      "include_colab_link": true
    },
    "kernelspec": {
      "name": "python3",
      "display_name": "Python 3"
    },
    "language_info": {
      "name": "python"
    }
  },
  "cells": [
    {
      "cell_type": "markdown",
      "metadata": {
        "id": "view-in-github",
        "colab_type": "text"
      },
      "source": [
        "<a href=\"https://colab.research.google.com/github/Shashan-k/Ineuron_Assignments/blob/main/Programming_Assingment1.ipynb\" target=\"_parent\"><img src=\"https://colab.research.google.com/assets/colab-badge.svg\" alt=\"Open In Colab\"/></a>"
      ]
    },
    {
      "cell_type": "code",
      "execution_count": 1,
      "metadata": {
        "colab": {
          "base_uri": "https://localhost:8080/"
        },
        "id": "rPGdKXCEYQlJ",
        "outputId": "0963f3fe-295c-4df7-81ec-a3f0ea420499"
      },
      "outputs": [
        {
          "output_type": "stream",
          "name": "stdout",
          "text": [
            "Hello Python\n"
          ]
        }
      ],
      "source": [
        "#Write a Python program to print \"Hello Python\"?\n",
        "\n",
        "print(\"Hello Python\")"
      ]
    },
    {
      "cell_type": "code",
      "source": [
        "#Write a Python program to do arithmetical operations addition and division.?\n",
        "a = int(input(\"enter 1st number\"))\n",
        "b= int(input(\"enter 2nd number\"))\n",
        "sum = print(\"sum\", a+b)\n",
        "division = print(\"Division\", a/b)"
      ],
      "metadata": {
        "colab": {
          "base_uri": "https://localhost:8080/"
        },
        "id": "lBoF9j_WYs8L",
        "outputId": "df9f7765-604d-4631-9394-83296feb1c89"
      },
      "execution_count": 3,
      "outputs": [
        {
          "output_type": "stream",
          "name": "stdout",
          "text": [
            "enter 1st number12\n",
            "enter 2nd number4\n",
            "sum 16\n",
            "Division 3.0\n"
          ]
        }
      ]
    },
    {
      "cell_type": "code",
      "source": [
        "#Write a Python program to find the area of a triangle?\n",
        "height = int(input(\"enter height:\"))\n",
        "base = int(input(\"enter base: \"))\n",
        "area = 1/2*(height * base)\n",
        "print(area)"
      ],
      "metadata": {
        "colab": {
          "base_uri": "https://localhost:8080/"
        },
        "id": "6kMFZmaHZLmJ",
        "outputId": "a16511f9-ecfb-4340-9561-3f2cb9b40f5f"
      },
      "execution_count": 5,
      "outputs": [
        {
          "output_type": "stream",
          "name": "stdout",
          "text": [
            "enter height12\n",
            "enter base32\n",
            "192.0\n"
          ]
        }
      ]
    },
    {
      "cell_type": "code",
      "source": [
        "#Write a Python program to swap two variables?\n",
        "a = int(input(\"Value of a:\"))\n",
        "b = int(input(\"Value of b:\"))\n",
        "c = a\n",
        "a = b\n",
        "b= c\n",
        "print(\"value of a \",a)\n",
        "print(\"value of b \",b)\n"
      ],
      "metadata": {
        "colab": {
          "base_uri": "https://localhost:8080/"
        },
        "id": "_fLWAvYPZm2J",
        "outputId": "619b0f6b-751c-42ed-d011-dbf228db30d3"
      },
      "execution_count": 8,
      "outputs": [
        {
          "output_type": "stream",
          "name": "stdout",
          "text": [
            "Value of a:99\n",
            "Value of b:88\n",
            "value of a  88\n",
            "value of b  99\n"
          ]
        }
      ]
    },
    {
      "cell_type": "code",
      "source": [
        "#Write a Python program to generate a random number?\n",
        "import random\n",
        "a = random.randint(0,100)\n",
        "print(a)"
      ],
      "metadata": {
        "colab": {
          "base_uri": "https://localhost:8080/"
        },
        "id": "rJk3tA7XbWRB",
        "outputId": "f444161e-c474-433a-ad2e-bd3bab3ee0b8"
      },
      "execution_count": 14,
      "outputs": [
        {
          "output_type": "stream",
          "name": "stdout",
          "text": [
            "73\n"
          ]
        }
      ]
    },
    {
      "cell_type": "code",
      "source": [
        "\n"
      ],
      "metadata": {
        "id": "u6ZMlNPRb-bn"
      },
      "execution_count": null,
      "outputs": []
    }
  ]
}